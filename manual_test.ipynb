{
 "cells": [
  {
   "cell_type": "code",
   "execution_count": 1,
   "id": "35fafdf8",
   "metadata": {},
   "outputs": [],
   "source": [
    "import sys\n",
    "import numpy as np\n",
    "import matplotlib.pyplot as plt\n",
    "\n",
    "sys.path.append(\"src\")\n",
    "\n",
    "from poisson_solver import PoissonSolver\n",
    "from structure_manager import StructureManager"
   ]
  },
  {
   "cell_type": "markdown",
   "id": "fdfaeccf",
   "metadata": {},
   "source": [
    "# 電極のテスト"
   ]
  },
  {
   "cell_type": "code",
   "execution_count": 18,
   "id": "93713cda",
   "metadata": {},
   "outputs": [],
   "source": [
    "nx, ny, nz = 21, 21, 21\n",
    "h = 1e-9\n",
    "\n",
    "epsilon_0 = 8.854e-12  # Vacuum permittivity\n",
    "epsilon = np.ones((nz, nx, ny)) * 11.7  # Si\n",
    "\n",
    "electrode_mask = np.zeros((nz, nx, ny), dtype=bool)\n",
    "electrode_thickness = 2  # Thickness of electrode in z\n",
    "ew = 2\n",
    "exmin, exmax = nx // 2 - ew // 2, nx // 2 + ew // 2  # position of electrode in x\n",
    "eymin, eymax = ny // 2 - ew // 2, ny // 2 + ew // 2  # position of electrode in y\n",
    "electrode_mask[:electrode_thickness, exmin:exmax+1, eymin:eymax+1] = True\n",
    "# electrode_mask[eymin, exmin, k_electrode_bottom:] = False\n",
    "# electrode_mask[eymin, exmax, k_electrode_bottom:] = False\n",
    "# electrode_mask[eymax, exmin, k_electrode_bottom:] = False\n",
    "# electrode_mask[eymax, exmax, k_electrode_bottom:] = False\n",
    "\n",
    "electrode_voltages = np.zeros((nz, nx, ny))\n",
    "electrode_voltage = -0.5\n",
    "electrode_voltages[electrode_mask] = electrode_voltage\n",
    "\n",
    "boundary_conditions = {\n",
    "    'z_top': {'type': 'neumann', 'value': 0.0},\n",
    "    'z_bottom': {'type': 'dirichlet', 'value': 0.0},\n",
    "    'x_sides': {'type': 'dirichlet', 'value': 0.0},\n",
    "    'y_sides': {'type': 'dirichlet', 'value': 0.0},\n",
    "}\n",
    "\n",
    "solver = PoissonSolver(\n",
    "    epsilon=epsilon,\n",
    "    grid_spacing=h,\n",
    "    boundary_conditions=boundary_conditions,\n",
    "    omega=1.2,\n",
    "    tolerance=1e-6,\n",
    "    max_iterations=1000,\n",
    "    electrode_mask=electrode_mask,\n",
    "    electrode_voltages=electrode_voltages,\n",
    ")"
   ]
  },
  {
   "cell_type": "code",
   "execution_count": 19,
   "id": "0023353c",
   "metadata": {},
   "outputs": [
    {
     "name": "stdout",
     "output_type": "stream",
     "text": [
      "Iteration 10: Residual = 2.304123e-01\n",
      "Iteration 20: Residual = 2.129625e-01\n",
      "Iteration 30: Residual = 2.053379e-01\n",
      "Iteration 40: Residual = 2.009571e-01\n",
      "Iteration 50: Residual = 1.981812e-01\n",
      "Iteration 60: Residual = 1.963434e-01\n",
      "Iteration 70: Residual = 1.950970e-01\n"
     ]
    },
    {
     "ename": "KeyboardInterrupt",
     "evalue": "",
     "output_type": "error",
     "traceback": [
      "\u001b[31m---------------------------------------------------------------------------\u001b[39m",
      "\u001b[31mKeyboardInterrupt\u001b[39m                         Traceback (most recent call last)",
      "\u001b[36mCell\u001b[39m\u001b[36m \u001b[39m\u001b[32mIn[19]\u001b[39m\u001b[32m, line 9\u001b[39m\n\u001b[32m      7\u001b[39m phi_initial = np.zeros((nx, ny, nz))\n\u001b[32m      8\u001b[39m phi_initial[electrode_mask] = electrode_voltage\n\u001b[32m----> \u001b[39m\u001b[32m9\u001b[39m phi, info = \u001b[43msolver\u001b[49m\u001b[43m.\u001b[49m\u001b[43msolve\u001b[49m\u001b[43m(\u001b[49m\u001b[43mphi_initial\u001b[49m\u001b[43m=\u001b[49m\u001b[43mphi_initial\u001b[49m\u001b[43m)\u001b[49m\n",
      "\u001b[36mFile \u001b[39m\u001b[32mc:\\Users\\hideb\\OneDrive\\python-AkiPC\\phD\\SOR\\src\\poisson_solver.py:105\u001b[39m, in \u001b[36mPoissonSolver.solve\u001b[39m\u001b[34m(self, rho, phi_initial, verbose)\u001b[39m\n\u001b[32m    102\u001b[39m \u001b[38;5;66;03m# SOR反復\u001b[39;00m\n\u001b[32m    103\u001b[39m \u001b[38;5;28;01mfor\u001b[39;00m iteration \u001b[38;5;129;01min\u001b[39;00m \u001b[38;5;28mrange\u001b[39m(\u001b[38;5;28mself\u001b[39m.max_iterations):\n\u001b[32m    104\u001b[39m     \u001b[38;5;66;03m# SOR更新（内部点のみ、境界は更新しない）\u001b[39;00m\n\u001b[32m--> \u001b[39m\u001b[32m105\u001b[39m     phi = \u001b[38;5;28;43mself\u001b[39;49m\u001b[43m.\u001b[49m\u001b[43m_sor_iteration\u001b[49m\u001b[43m(\u001b[49m\u001b[43mphi\u001b[49m\u001b[43m,\u001b[49m\u001b[43m \u001b[49m\u001b[43mrho\u001b[49m\u001b[43m)\u001b[49m\n\u001b[32m    107\u001b[39m     \u001b[38;5;66;03m# 境界条件を再適用（念のため）\u001b[39;00m\n\u001b[32m    108\u001b[39m     phi = \u001b[38;5;28mself\u001b[39m.apply_boundary_conditions(phi)\n",
      "\u001b[36mFile \u001b[39m\u001b[32mc:\\Users\\hideb\\OneDrive\\python-AkiPC\\phD\\SOR\\src\\poisson_solver.py:222\u001b[39m, in \u001b[36mPoissonSolver._sor_iteration\u001b[39m\u001b[34m(self, phi, rho)\u001b[39m\n\u001b[32m    220\u001b[39m             \u001b[38;5;66;03m# SOR更新\u001b[39;00m\n\u001b[32m    221\u001b[39m             \u001b[38;5;28;01mif\u001b[39;00m A != \u001b[32m0\u001b[39m:\n\u001b[32m--> \u001b[39m\u001b[32m222\u001b[39m                 phi[k, i, j] = (\u001b[32m1\u001b[39m - \u001b[38;5;28mself\u001b[39m.omega) * phi[k, i, j] + \u001b[38;5;28mself\u001b[39m.omega * (\n\u001b[32m    223\u001b[39m                     B / A\n\u001b[32m    224\u001b[39m                 )\n\u001b[32m    226\u001b[39m \u001b[38;5;28;01mreturn\u001b[39;00m phi\n",
      "\u001b[31mKeyboardInterrupt\u001b[39m: "
     ]
    }
   ],
   "source": [
    "# phi, info = solver.solve()\n",
    "# x = np.linspace((nx-1) // 2 * h, (nx-1) // 2 * h, nx)\n",
    "# y = np.linspace((ny-1) // 2 * h, (ny-1) // 2 * h, ny)\n",
    "# z = np.linspace(-(nz - 1) * h, 0, nz)\n",
    "# X, Y, Z = np.meshgrid(x, y, z, indexing='ij')\n",
    "# phi_initial = epsilon_0 * electrode_voltage / (h * (k_electrode_bottom)) * Z\n",
    "phi_initial = np.zeros((nx, ny, nz))\n",
    "phi_initial[electrode_mask] = electrode_voltage\n",
    "phi, info = solver.solve(phi_initial=phi_initial)"
   ]
  },
  {
   "cell_type": "code",
   "execution_count": 15,
   "id": "2854fd52",
   "metadata": {},
   "outputs": [
    {
     "data": {
      "text/plain": [
       "<matplotlib.colorbar.Colorbar at 0x211381a25d0>"
      ]
     },
     "execution_count": 15,
     "metadata": {},
     "output_type": "execute_result"
    },
    {
     "data": {
      "image/png": "[encoded data removed]",
      "text/plain": [
       "<Figure size 400x300 with 2 Axes>"
      ]
     },
     "metadata": {},
     "output_type": "display_data"
    }
   ],
   "source": [
    "plt.figure(figsize=(4, 3))\n",
    "plt.pcolor(phi[::-1, :, ny//2], cmap='jet')\n",
    "plt.colorbar(label='Potential (V)')"
   ]
  },
  {
   "cell_type": "code",
   "execution_count": 71,
   "id": "5a3ad132",
   "metadata": {},
   "outputs": [],
   "source": [
    "rho = np.zeros((nx, ny, nz))\n",
    "phi2 = solver._sor_iteration(phi, rho)"
   ]
  },
  {
   "cell_type": "code",
   "execution_count": 72,
   "id": "a88b34d3",
   "metadata": {},
   "outputs": [
    {
     "data": {
      "text/plain": [
       "<matplotlib.colorbar.Colorbar at 0x17f28ca60d0>"
      ]
     },
     "execution_count": 72,
     "metadata": {},
     "output_type": "execute_result"
    },
    {
     "data": {
      "image/png": "[encoded data removed]",
      "text/plain": [
       "<Figure size 400x300 with 2 Axes>"
      ]
     },
     "metadata": {},
     "output_type": "display_data"
    }
   ],
   "source": [
    "plt.figure(figsize=(4, 3))\n",
    "plt.pcolor(phi2[:, ny//2, :].T, cmap='jet')\n",
    "plt.colorbar(label='Potential (V)')"
   ]
  },
  {
   "cell_type": "markdown",
   "id": "73d2ab13",
   "metadata": {},
   "source": [
    "# 平行平板コンデンサ"
   ]
  },
  {
   "cell_type": "code",
   "execution_count": 2,
   "id": "47fc6248",
   "metadata": {},
   "outputs": [],
   "source": [
    "nx, ny, nz = 3, 3, 11\n",
    "h = 2e-9\n",
    "\n",
    "epsilon = np.ones((nx, ny, nz)) * 3.9  # SiO2\n",
    "\n",
    "boundary_conditions = {\n",
    "    'z_top': {'type': 'dirichlet', 'value': 1.0},  # 1V\n",
    "    'z_bottom': {'type': 'dirichlet', 'value': 0.0},  # 0V\n",
    "    'x_sides': {'type': 'neumann', 'value': 0.0},\n",
    "    'y_sides': {'type': 'neumann', 'value': 0.0},\n",
    "}\n",
    "\n",
    "solver = PoissonSolver(\n",
    "    epsilon=epsilon,\n",
    "    grid_spacing=h,\n",
    "    boundary_conditions=boundary_conditions,\n",
    "    omega=1.5,\n",
    "    tolerance=1e-8,\n",
    "    max_iterations=5000,\n",
    ")"
   ]
  },
  {
   "cell_type": "code",
   "execution_count": 3,
   "id": "d9be4033",
   "metadata": {},
   "outputs": [
    {
     "name": "stdout",
     "output_type": "stream",
     "text": [
      "Iteration 10: Residual = 5.846971e-02\n",
      "Iteration 20: Residual = 3.581534e-02\n",
      "Iteration 30: Residual = 2.625501e-02\n",
      "Iteration 40: Residual = 2.019244e-02\n",
      "Iteration 50: Residual = 1.570892e-02\n",
      "Iteration 60: Residual = 1.225254e-02\n",
      "Iteration 70: Residual = 9.562118e-03\n",
      "Iteration 80: Residual = 7.463406e-03\n",
      "Iteration 90: Residual = 5.825487e-03\n",
      "========================================\n",
      "Iteration 100: Residual = 4.547053e-03\n",
      "Iteration 110: Residual = 3.549183e-03\n",
      "Iteration 120: Residual = 2.770300e-03\n",
      "Iteration 130: Residual = 2.162347e-03\n",
      "Iteration 140: Residual = 1.687812e-03\n",
      "Iteration 150: Residual = 1.317415e-03\n",
      "Iteration 160: Residual = 1.028303e-03\n",
      "Iteration 170: Residual = 8.026377e-04\n",
      "Iteration 180: Residual = 6.264957e-04\n",
      "Iteration 190: Residual = 4.890088e-04\n",
      "========================================\n",
      "Iteration 200: Residual = 3.816939e-04\n",
      "Iteration 210: Residual = 2.979297e-04\n",
      "Iteration 220: Residual = 2.325478e-04\n",
      "Iteration 230: Residual = 1.815143e-04\n",
      "Iteration 240: Residual = 1.416803e-04\n",
      "Iteration 250: Residual = 1.105880e-04\n",
      "Iteration 260: Residual = 8.631901e-05\n",
      "Iteration 270: Residual = 6.737596e-05\n",
      "Iteration 280: Residual = 5.259004e-05\n",
      "Iteration 290: Residual = 4.104895e-05\n",
      "========================================\n",
      "Iteration 300: Residual = 3.204060e-05\n",
      "Iteration 310: Residual = 2.500916e-05\n",
      "Iteration 320: Residual = 1.952080e-05\n",
      "Iteration 330: Residual = 1.523689e-05\n",
      "Iteration 340: Residual = 1.189309e-05\n",
      "Iteration 350: Residual = 9.283106e-06\n",
      "Iteration 360: Residual = 7.245892e-06\n",
      "Iteration 370: Residual = 5.655753e-06\n",
      "Iteration 380: Residual = 4.414575e-06\n",
      "Iteration 390: Residual = 3.445779e-06\n",
      "========================================\n",
      "Iteration 400: Residual = 2.689590e-06\n",
      "Iteration 410: Residual = 2.099349e-06\n",
      "Iteration 420: Residual = 1.638638e-06\n",
      "Iteration 430: Residual = 1.279033e-06\n",
      "Iteration 440: Residual = 9.983439e-07\n",
      "Iteration 450: Residual = 7.792534e-07\n",
      "Iteration 460: Residual = 6.082432e-07\n",
      "Iteration 470: Residual = 4.747618e-07\n",
      "Iteration 480: Residual = 3.705735e-07\n",
      "Iteration 490: Residual = 2.892497e-07\n",
      "========================================\n",
      "Iteration 500: Residual = 2.257727e-07\n",
      "Iteration 510: Residual = 1.762260e-07\n",
      "Iteration 520: Residual = 1.375525e-07\n",
      "Iteration 530: Residual = 1.073661e-07\n",
      "Iteration 540: Residual = 8.380416e-08\n",
      "Iteration 550: Residual = 6.541301e-08\n",
      "Iteration 560: Residual = 5.105787e-08\n",
      "Iteration 570: Residual = 3.985302e-08\n",
      "Iteration 580: Residual = 3.110712e-08\n",
      "Iteration 590: Residual = 2.428054e-08\n",
      "========================================\n",
      "Iteration 600: Residual = 1.895208e-08\n",
      "Iteration 610: Residual = 1.479297e-08\n",
      "Iteration 620: Residual = 1.154659e-08\n"
     ]
    }
   ],
   "source": [
    "phi, info = solver.solve()"
   ]
  },
  {
   "cell_type": "code",
   "execution_count": 4,
   "id": "b275a6ba",
   "metadata": {},
   "outputs": [
    {
     "data": {
      "text/plain": [
       "<matplotlib.colorbar.Colorbar at 0x17f263f4050>"
      ]
     },
     "execution_count": 4,
     "metadata": {},
     "output_type": "execute_result"
    },
    {
     "data": {
      "image/png": "[encoded data removed]",
      "text/plain": [
       "<Figure size 400x300 with 2 Axes>"
      ]
     },
     "metadata": {},
     "output_type": "display_data"
    }
   ],
   "source": [
    "plt.figure(figsize=(4, 3))\n",
    "plt.pcolor(phi[:, 0, :].T, cmap='jet')\n",
    "plt.colorbar(label='Potential (V)')"
   ]
  }
 ],
 "metadata": {
  "kernelspec": {
   "display_name": "sor",
   "language": "python",
   "name": "python3"
  },
  "language_info": {
   "codemirror_mode": {
    "name": "ipython",
    "version": 3
   },
   "file_extension": ".py",
   "mimetype": "text/x-python",
   "name": "python",
   "nbconvert_exporter": "python",
   "pygments_lexer": "ipython3",
   "version": "3.13.5"
  }
 },
 "nbformat": 4,
 "nbformat_minor": 5
}
