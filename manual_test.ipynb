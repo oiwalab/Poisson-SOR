{
 "cells": [
  {
   "cell_type": "code",
   "execution_count": 1,
   "id": "35fafdf8",
   "metadata": {},
   "outputs": [],
   "source": [
    "import sys\n",
    "import numpy as np\n",
    "import matplotlib.pyplot as plt\n",
    "\n",
    "sys.path.append(\"src\")\n",
    "\n",
    "from poisson_solver import PoissonSolver\n",
    "from structure_manager import StructureManager"
   ]
  },
  {
   "cell_type": "markdown",
   "id": "fdfaeccf",
   "metadata": {},
   "source": [
    "# 電極のテスト"
   ]
  },
  {
   "cell_type": "code",
   "execution_count": 89,
   "id": "93713cda",
   "metadata": {},
   "outputs": [],
   "source": [
    "nx, ny, nz = 21, 21, 21\n",
    "h = 1e-9\n",
    "\n",
    "epsilon_0 = 8.854e-12  # Vacuum permittivity\n",
    "epsilon = np.ones((nx, ny, nz)) * 11.7  # Si\n",
    "\n",
    "electrode_mask = np.zeros((nx, ny, nz), dtype=bool)\n",
    "k_electrode_bottom = nz - 2  # 電極底面のz-index\n",
    "ew = 10\n",
    "exmin, exmax = nx // 2 - ew // 2, nx // 2 + ew // 2  # position of electrode in x\n",
    "eymin, eymax = ny // 2 - ew // 2, ny // 2 + ew // 2  # position of electrode in y\n",
    "electrode_mask[eymin:eymax+1, exmin:exmax+1, k_electrode_bottom:] = True\n",
    "electrode_mask[eymin, exmin, k_electrode_bottom:] = False\n",
    "electrode_mask[eymin, exmax, k_electrode_bottom:] = False\n",
    "electrode_mask[eymax, exmin, k_electrode_bottom:] = False\n",
    "electrode_mask[eymax, exmax, k_electrode_bottom:] = False\n",
    "\n",
    "electrode_voltages = np.zeros((nx, ny, nz))\n",
    "electrode_voltage = -0.5\n",
    "electrode_voltages[electrode_mask] = electrode_voltage\n",
    "\n",
    "boundary_conditions = {\n",
    "    'z_top': {'type': 'neumann', 'value': 0.0},\n",
    "    'z_bottom': {'type': 'dirichlet', 'value': 0.0},\n",
    "    'x_sides': {'type': 'dirichlet', 'value': 0.0},\n",
    "    'y_sides': {'type': 'dirichlet', 'value': 0.0},\n",
    "}\n",
    "\n",
    "solver = PoissonSolver(\n",
    "    epsilon=epsilon,\n",
    "    grid_spacing=h,\n",
    "    boundary_conditions=boundary_conditions,\n",
    "    omega=1.2,\n",
    "    tolerance=1e-6,\n",
    "    max_iterations=50,\n",
    "    electrode_mask=electrode_mask,\n",
    "    electrode_voltages=electrode_voltages,\n",
    ")"
   ]
  },
  {
   "cell_type": "code",
   "execution_count": 90,
   "id": "0023353c",
   "metadata": {},
   "outputs": [
    {
     "name": "stdout",
     "output_type": "stream",
     "text": [
      "Iteration 10: Residual = 7.678264e-01\n",
      "Iteration 20: Residual = 1.027349e+01\n",
      "Iteration 30: Residual = 2.030075e+02\n",
      "Iteration 40: Residual = 4.413577e+03\n",
      "Iteration 50: Residual = 1.010085e+05\n"
     ]
    }
   ],
   "source": [
    "# phi, info = solver.solve()\n",
    "# x = np.linspace((nx-1) // 2 * h, (nx-1) // 2 * h, nx)\n",
    "# y = np.linspace((ny-1) // 2 * h, (ny-1) // 2 * h, ny)\n",
    "# z = np.linspace(-(nz - 1) * h, 0, nz)\n",
    "# X, Y, Z = np.meshgrid(x, y, z, indexing='ij')\n",
    "# phi_initial = epsilon_0 * electrode_voltage / (h * (k_electrode_bottom)) * Z\n",
    "phi_initial = np.zeros((nx, ny, nz))\n",
    "phi_initial[6:15, 6:15, k_electrode_bottom-3:] = electrode_voltage\n",
    "phi, info = solver.solve(phi_initial=phi_initial)"
   ]
  },
  {
   "cell_type": "code",
   "execution_count": 91,
   "id": "2854fd52",
   "metadata": {},
   "outputs": [
    {
     "data": {
      "text/plain": [
       "<matplotlib.colorbar.Colorbar at 0x22893c4e850>"
      ]
     },
     "execution_count": 91,
     "metadata": {},
     "output_type": "execute_result"
    },
    {
     "data": {
      "image/png": "[encoded data removed]",
      "text/plain": [
       "<Figure size 400x300 with 2 Axes>"
      ]
     },
     "metadata": {},
     "output_type": "display_data"
    }
   ],
   "source": [
    "plt.figure(figsize=(4, 3))\n",
    "plt.pcolor(phi[:, ny//2, :].T, cmap='jet')\n",
    "plt.colorbar(label='Potential (V)')"
   ]
  },
  {
   "cell_type": "code",
   "execution_count": 71,
   "id": "5a3ad132",
   "metadata": {},
   "outputs": [],
   "source": [
    "rho = np.zeros((nx, ny, nz))\n",
    "phi2 = solver._sor_iteration(phi, rho)"
   ]
  },
  {
   "cell_type": "code",
   "execution_count": 72,
   "id": "a88b34d3",
   "metadata": {},
   "outputs": [
    {
     "data": {
      "text/plain": [
       "<matplotlib.colorbar.Colorbar at 0x17f28ca60d0>"
      ]
     },
     "execution_count": 72,
     "metadata": {},
     "output_type": "execute_result"
    },
    {
     "data": {
      "image/png": "[encoded data removed]",
      "text/plain": [
       "<Figure size 400x300 with 2 Axes>"
      ]
     },
     "metadata": {},
     "output_type": "display_data"
    }
   ],
   "source": [
    "plt.figure(figsize=(4, 3))\n",
    "plt.pcolor(phi2[:, ny//2, :].T, cmap='jet')\n",
    "plt.colorbar(label='Potential (V)')"
   ]
  },
  {
   "cell_type": "markdown",
   "id": "73d2ab13",
   "metadata": {},
   "source": [
    "# 平行平板コンデンサ"
   ]
  },
  {
   "cell_type": "code",
   "execution_count": 2,
   "id": "47fc6248",
   "metadata": {},
   "outputs": [],
   "source": [
    "nx, ny, nz = 3, 3, 11\n",
    "h = 2e-9\n",
    "\n",
    "epsilon = np.ones((nx, ny, nz)) * 3.9  # SiO2\n",
    "\n",
    "boundary_conditions = {\n",
    "    'z_top': {'type': 'dirichlet', 'value': 1.0},  # 1V\n",
    "    'z_bottom': {'type': 'dirichlet', 'value': 0.0},  # 0V\n",
    "    'x_sides': {'type': 'neumann', 'value': 0.0},\n",
    "    'y_sides': {'type': 'neumann', 'value': 0.0},\n",
    "}\n",
    "\n",
    "solver = PoissonSolver(\n",
    "    epsilon=epsilon,\n",
    "    grid_spacing=h,\n",
    "    boundary_conditions=boundary_conditions,\n",
    "    omega=1.5,\n",
    "    tolerance=1e-8,\n",
    "    max_iterations=5000,\n",
    ")"
   ]
  },
  {
   "cell_type": "code",
   "execution_count": 3,
   "id": "d9be4033",
   "metadata": {},
   "outputs": [
    {
     "name": "stdout",
     "output_type": "stream",
     "text": [
      "Iteration 10: Residual = 5.846971e-02\n",
      "Iteration 20: Residual = 3.581534e-02\n",
      "Iteration 30: Residual = 2.625501e-02\n",
      "Iteration 40: Residual = 2.019244e-02\n",
      "Iteration 50: Residual = 1.570892e-02\n",
      "Iteration 60: Residual = 1.225254e-02\n",
      "Iteration 70: Residual = 9.562118e-03\n",
      "Iteration 80: Residual = 7.463406e-03\n",
      "Iteration 90: Residual = 5.825487e-03\n",
      "========================================\n",
      "Iteration 100: Residual = 4.547053e-03\n",
      "Iteration 110: Residual = 3.549183e-03\n",
      "Iteration 120: Residual = 2.770300e-03\n",
      "Iteration 130: Residual = 2.162347e-03\n",
      "Iteration 140: Residual = 1.687812e-03\n",
      "Iteration 150: Residual = 1.317415e-03\n",
      "Iteration 160: Residual = 1.028303e-03\n",
      "Iteration 170: Residual = 8.026377e-04\n",
      "Iteration 180: Residual = 6.264957e-04\n",
      "Iteration 190: Residual = 4.890088e-04\n",
      "========================================\n",
      "Iteration 200: Residual = 3.816939e-04\n",
      "Iteration 210: Residual = 2.979297e-04\n",
      "Iteration 220: Residual = 2.325478e-04\n",
      "Iteration 230: Residual = 1.815143e-04\n",
      "Iteration 240: Residual = 1.416803e-04\n",
      "Iteration 250: Residual = 1.105880e-04\n",
      "Iteration 260: Residual = 8.631901e-05\n",
      "Iteration 270: Residual = 6.737596e-05\n",
      "Iteration 280: Residual = 5.259004e-05\n",
      "Iteration 290: Residual = 4.104895e-05\n",
      "========================================\n",
      "Iteration 300: Residual = 3.204060e-05\n",
      "Iteration 310: Residual = 2.500916e-05\n",
      "Iteration 320: Residual = 1.952080e-05\n",
      "Iteration 330: Residual = 1.523689e-05\n",
      "Iteration 340: Residual = 1.189309e-05\n",
      "Iteration 350: Residual = 9.283106e-06\n",
      "Iteration 360: Residual = 7.245892e-06\n",
      "Iteration 370: Residual = 5.655753e-06\n",
      "Iteration 380: Residual = 4.414575e-06\n",
      "Iteration 390: Residual = 3.445779e-06\n",
      "========================================\n",
      "Iteration 400: Residual = 2.689590e-06\n",
      "Iteration 410: Residual = 2.099349e-06\n",
      "Iteration 420: Residual = 1.638638e-06\n",
      "Iteration 430: Residual = 1.279033e-06\n",
      "Iteration 440: Residual = 9.983439e-07\n",
      "Iteration 450: Residual = 7.792534e-07\n",
      "Iteration 460: Residual = 6.082432e-07\n",
      "Iteration 470: Residual = 4.747618e-07\n",
      "Iteration 480: Residual = 3.705735e-07\n",
      "Iteration 490: Residual = 2.892497e-07\n",
      "========================================\n",
      "Iteration 500: Residual = 2.257727e-07\n",
      "Iteration 510: Residual = 1.762260e-07\n",
      "Iteration 520: Residual = 1.375525e-07\n",
      "Iteration 530: Residual = 1.073661e-07\n",
      "Iteration 540: Residual = 8.380416e-08\n",
      "Iteration 550: Residual = 6.541301e-08\n",
      "Iteration 560: Residual = 5.105787e-08\n",
      "Iteration 570: Residual = 3.985302e-08\n",
      "Iteration 580: Residual = 3.110712e-08\n",
      "Iteration 590: Residual = 2.428054e-08\n",
      "========================================\n",
      "Iteration 600: Residual = 1.895208e-08\n",
      "Iteration 610: Residual = 1.479297e-08\n",
      "Iteration 620: Residual = 1.154659e-08\n"
     ]
    }
   ],
   "source": [
    "phi, info = solver.solve()"
   ]
  },
  {
   "cell_type": "code",
   "execution_count": 4,
   "id": "b275a6ba",
   "metadata": {},
   "outputs": [
    {
     "data": {
      "text/plain": [
       "<matplotlib.colorbar.Colorbar at 0x17f263f4050>"
      ]
     },
     "execution_count": 4,
     "metadata": {},
     "output_type": "execute_result"
    },
    {
     "data": {
      "image/png": "[encoded data removed]",
      "text/plain": [
       "<Figure size 400x300 with 2 Axes>"
      ]
     },
     "metadata": {},
     "output_type": "display_data"
    }
   ],
   "source": [
    "plt.figure(figsize=(4, 3))\n",
    "plt.pcolor(phi[:, 0, :].T, cmap='jet')\n",
    "plt.colorbar(label='Potential (V)')"
   ]
  }
 ],
 "metadata": {
  "kernelspec": {
   "display_name": "sor",
   "language": "python",
   "name": "python3"
  },
  "language_info": {
   "codemirror_mode": {
    "name": "ipython",
    "version": 3
   },
   "file_extension": ".py",
   "mimetype": "text/x-python",
   "name": "python",
   "nbconvert_exporter": "python",
   "pygments_lexer": "ipython3",
   "version": "3.13.5"
  }
 },
 "nbformat": 4,
 "nbformat_minor": 5
}
